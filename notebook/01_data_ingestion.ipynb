{
 "cells": [
  {
   "cell_type": "code",
   "execution_count": 5,
   "id": "34f04a1d-402e-48df-94f0-cdff54ea3c64",
   "metadata": {},
   "outputs": [],
   "source": [
    "import os\n",
    "import zipfile"
   ]
  },
  {
   "cell_type": "code",
   "execution_count": 7,
   "id": "7763ffe1-b872-43b8-a738-c3ba2feb808b",
   "metadata": {},
   "outputs": [],
   "source": [
    "class DataIngestion:\n",
    "    def __init__(self):\n",
    "        self.data_path = os.path.join(\"../artifacts\",\"data_ingestion\",\"archive.zip\")\n",
    "        self.unzip_path = os.path.join(\"../artifacts\",\"data_ingestion\",\"anime_data\")\n",
    "        \n",
    "    def unzip_folder(self):\n",
    "        if not os.path.exists(self.data_path):\n",
    "            raise FileNotFoundError(f\"The file '{self.data_path}' does not exist.\")\n",
    "        \n",
    "        if not zipfile.is_zipfile(self.data_path):\n",
    "            raise ValueError(f\"The file '{self.data_path}' is not a valid zip file.\")\n",
    "        \n",
    "        os.makedirs(self.unzip_path, exist_ok=True)\n",
    "        \n",
    "        with zipfile.ZipFile(self.data_path, 'r') as zip_ref:\n",
    "            zip_ref.extractall(self.unzip_path)\n",
    "            print(f\"Extracted '{self.data_path}' to '{self.unzip_path}'\")\n",
    "        "
   ]
  },
  {
   "cell_type": "code",
   "execution_count": 9,
   "id": "25ef7ca4-00fd-40ef-860c-acbc2c0c1fa3",
   "metadata": {},
   "outputs": [
    {
     "name": "stdout",
     "output_type": "stream",
     "text": [
      "Extracted '../artifacts\\data_ingestion\\archive.zip' to '../artifacts\\data_ingestion\\anime_data'\n"
     ]
    }
   ],
   "source": [
    "data_ingestion_obj = DataIngestion()\n",
    "data_ingestion_obj.unzip_folder()"
   ]
  },
  {
   "cell_type": "code",
   "execution_count": null,
   "id": "7d43f1b4-ffb2-42f6-882e-606c027867a1",
   "metadata": {},
   "outputs": [],
   "source": []
  }
 ],
 "metadata": {
  "kernelspec": {
   "display_name": "Python 3 (ipykernel)",
   "language": "python",
   "name": "python3"
  },
  "language_info": {
   "codemirror_mode": {
    "name": "ipython",
    "version": 3
   },
   "file_extension": ".py",
   "mimetype": "text/x-python",
   "name": "python",
   "nbconvert_exporter": "python",
   "pygments_lexer": "ipython3",
   "version": "3.12.4"
  }
 },
 "nbformat": 4,
 "nbformat_minor": 5
}
